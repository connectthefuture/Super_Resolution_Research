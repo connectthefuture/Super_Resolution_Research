{
  "nbformat": 4,
  "nbformat_minor": 0,
  "metadata": {
    "colab": {
      "name": "SuperResolution",
      "provenance": [],
      "collapsed_sections": [],
      "include_colab_link": true
    },
    "kernelspec": {
      "name": "python3",
      "display_name": "Python 3"
    }
  },
  "cells": [
    {
      "cell_type": "markdown",
      "metadata": {
        "id": "view-in-github",
        "colab_type": "text"
      },
      "source": [
        "<a href=\"https://colab.research.google.com/github/connectthefuture/Super_Resolution_Research/blob/master/SuperResolution.ipynb\" target=\"_parent\"><img src=\"https://colab.research.google.com/assets/colab-badge.svg\" alt=\"Open In Colab\"/></a>"
      ]
    },
    {
      "cell_type": "code",
      "metadata": {
        "id": "tFOwBOmsxkFa"
      },
      "source": [
        "!pip install google-search-results"
      ],
      "execution_count": null,
      "outputs": []
    },
    {
      "cell_type": "code",
      "metadata": {
        "id": "bCjzLqSl_Moh"
      },
      "source": [
        "!pip install wget"
      ],
      "execution_count": null,
      "outputs": []
    },
    {
      "cell_type": "code",
      "metadata": {
        "id": "t2BsTm42_chH"
      },
      "source": [
        "!mkdir images"
      ],
      "execution_count": null,
      "outputs": []
    },
    {
      "cell_type": "code",
      "metadata": {
        "id": "AYhiP52QL9te"
      },
      "source": [
        "!mkdir superimages"
      ],
      "execution_count": null,
      "outputs": []
    },
    {
      "cell_type": "code",
      "metadata": {
        "id": "6N4gz-H2-7Cf"
      },
      "source": [
        "from serpapi.google_search_results import GoogleSearchResults\n",
        "import wget\n",
        "import ssl\n",
        "\n",
        "ssl._create_default_https_context = ssl._create_unverified_context\n",
        "\n",
        "\n",
        "params = {\n",
        "    \"api_key\": \"enter your api key here\",\n",
        "    \"engine\": \"google\",\n",
        "    \"ijn\": \"0\",\n",
        "    \"q\": \"site:frac.tl\",\n",
        "    \"google_domain\": \"google.com\",\n",
        "    \"tbm\": \"isch\",\n",
        "}\n",
        "\n",
        "client = GoogleSearchResults(params)\n",
        "\n",
        "for image_result in client.get_json()['images_results']:\n",
        "    try:\n",
        "        link = image_result[\"original\"]\n",
        "        print(\"link: \" + link)\n",
        "        wget.download(link, 'images')\n",
        "    except:\n",
        "        pass"
      ],
      "execution_count": null,
      "outputs": []
    },
    {
      "cell_type": "code",
      "metadata": {
        "id": "3UGK72qACaNZ",
        "outputId": "0d4fe474-5f4e-450f-9c9d-1ca6dcad83d3",
        "colab": {
          "base_uri": "https://localhost:8080/",
          "height": 40
        }
      },
      "source": [
        "cd images"
      ],
      "execution_count": null,
      "outputs": [
        {
          "output_type": "stream",
          "text": [
            "/content/images\n"
          ],
          "name": "stdout"
        }
      ]
    },
    {
      "cell_type": "code",
      "metadata": {
        "id": "dHeyDS5WAXVp"
      },
      "source": [
        "import requests\n",
        "import json\n",
        "import urllib.request\n",
        "\n",
        "import os\n",
        "\n",
        "for filename in os.listdir('.'):\n",
        "  print(filename)\n",
        "  r = requests.post(\"https://api.deepai.org/api/torch-srgan\",files={'image': open(filename, 'rb'),},headers={'api-key': 'enter your api key here'})\n",
        "  jsonresponse = r.json()\n",
        "  #print(jsonresponse)\n",
        "  \n",
        "  url = jsonresponse['output_url']\n",
        "  #urllib.request.urlretrieve(thelink, '/superimages')\n",
        "  filepath='./superimages/'\n",
        "  #for file_num, image_url in enumerate(___list___):\n",
        "  img_data = requests.get(url)\n",
        "  if img_data.status_code == 200:\n",
        "    endpath='../superimages/'+filename.split(\".\")[0]+'_.jpg'\n",
        "    with open(endpath, 'wb') as handler:\n",
        "      handler.write(img_data.content)\n",
        "      print ('wrote ' + filename)\n",
        "  "
      ],
      "execution_count": null,
      "outputs": []
    }
  ]
}